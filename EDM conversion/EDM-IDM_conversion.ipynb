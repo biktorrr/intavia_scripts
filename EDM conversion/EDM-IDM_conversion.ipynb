{
 "cells": [
  {
   "cell_type": "markdown",
   "metadata": {},
   "source": [
    "# EDM-IDM conversion"
   ]
  },
  {
   "cell_type": "markdown",
   "metadata": {},
   "source": [
    "This notebook converts Europeana creator and/or contributor information to IDM\n"
   ]
  },
  {
   "cell_type": "code",
   "execution_count": 3,
   "metadata": {},
   "outputs": [],
   "source": [
    "import os\n",
    "from pathlib import Path\n",
    "from SPARQLWrapper import SPARQLWrapper, JSON, XML, TURTLE, N3, RDF, RDFXML, CSV, TSV, JSONLD, DIGEST\n",
    "import requests\n",
    "from urllib import parse, error\n",
    "from rdflib import Graph, RDF, URIRef, Literal, BNode, Namespace\n",
    "import warnings\n",
    "import time\n"
   ]
  },
  {
   "cell_type": "markdown",
   "metadata": {},
   "source": [
    "# Modualised version"
   ]
  },
  {
   "cell_type": "code",
   "execution_count": 4,
   "metadata": {},
   "outputs": [],
   "source": [
    "contributorquery=\"\"\"\n",
    "PREFIX dcterms: <http://purl.org/dc/terms/>\n",
    "PREFIX dc: <http://purl.org/dc/elements/1.1/>\n",
    "PREFIX edm: <http://www.europeana.eu/schemas/edm/>\n",
    "PREFIX crm: <http://www.cidoc-crm.org/cidoc-crm/>\n",
    "PREFIX wdt: <http://www.wikidata.org/prop/direct/>\n",
    "PREFIX wd: <http://www.wikidata.org/entity/>\n",
    "PREFIX p: <http://www.wikidata.org/prop/>\n",
    "PREFIX owl: <http://www.w3.org/2002/07/owl#>\n",
    "PREFIX rdfs: <http://www.w3.org/2000/01/rdf-schema#>\n",
    "PREFIX wikibase: <http://wikiba.se/ontology#>\n",
    "PREFIX bd: <http://www.bigdata.com/rdf#>\n",
    "PREFIX idm: <https://www.intavia.org/idm/>\n",
    "PREFIX idmrole: <https://www.intavia.org/idm/role/>\n",
    "PREFIX bioc: <http://ldf.fi/schema/bioc/>\n",
    "PREFIX psv: <http://www.wikidata.org/prop/statement/value/>\n",
    "PREFIX schema: <http://schema.org/>\n",
    "PREFIX psn: <http://www.wikidata.org/prop/statement/value-normalized/>\n",
    "PREFIX wds: <http://www.wikidata.org/entity/statement/>\n",
    "PREFIX pq: <http://www.wikidata.org/prop/qualifier/>\n",
    "\n",
    "CONSTRUCT {\n",
    "\t?cho a crm:E24_Physical_Human_Made_Thing,\n",
    "\t\tidm:CHO_Proxy;\n",
    "\t\tcrm:P1_is_identified_by ?cho_1476Title;\n",
    "\t\tbioc:bearer_of ?choProductionEventRole.\n",
    "\t?cho rdfs:label ?dc_title .\n",
    "\n",
    "\t?edm_object crm:P70_documents ?cho;\n",
    "\t\ta crm:E31_Document.\n",
    "\t?cho_1476Title rdfs:label ?dc_title;\n",
    "\t\ta crm:E35_Title .\n",
    "\n",
    "\t?choProductionEventRole a bioc:Thing_Role .\n",
    "\t?choProductionEvent bioc:occured_in_the_presence_of_in_role ?choProductionEventRole ;\n",
    "\t\t a crm:E12_Production ;\n",
    "\t\t crm:P4_has_time-span ?choProductionTimespan ;\n",
    "\t\t rdfs:label ?eventLabel .\n",
    "\n",
    "\t?choProductionTimespan rdfs:label ?dc_date;\n",
    "\t\tcrm:P82a_beginning_of_the_begin ?dc_date ;\n",
    "\t\tcrm:P82b_end_of_the_end ?dc_date .\n",
    "\n",
    "\t?choProductionEvent crm:P7_took_place_at ?locationofcreation.\n",
    "\t?locationofcreation a crm:E53_Place .\n",
    "\t?choProductionEvent bioc:had_participant_in_role ?producingArtistRole .\n",
    "\t?artist bioc:bearer_of ?producingArtistRole .\n",
    "\t?producingArtistRole a idmrole:contributing_artist .\n",
    "\tidmrole:contributing_artist rdfs:label \"contributing artist\"@en\n",
    "}\n",
    "WHERE \n",
    "{  \t\t\n",
    "\t?dc_creator_uri owl:sameAs ?artistUri .\n",
    "\t?cho dc:contributor ?dc_creator_uri .\n",
    "\n",
    "\tBIND(REPLACE(STR(?cho), \"http://\", \"https://www.intavia.eu/productionthingrole/\") as ?choProductionEventRoleStr)      \n",
    "\tBIND(IRI(?choProductionEventRoleStr) as ?choProductionEventRole)\n",
    "\tBIND(REPLACE(STR(?cho), \"http://\", \"https://www.intavia.eu/production_event/\") as ?choProductionEventStr)      \n",
    "\tBIND(IRI(?choProductionEventStr) as ?choProductionEvent)\n",
    "\tBIND(IRI(REPLACE(STR(?artistUri), \"http://\", STR(idmrole:producing_artist))) as ?producingArtistRole)\n",
    "\tBIND(REPLACE(STR(?cho), \"http://\", \"https://www.intavia.org/chotitle/\") as ?cho_TitleStr)\n",
    "\tBIND(IRI(?cho_TitleStr) as ?cho_1476Title)\n",
    "\tOPTIONAL {?cho dc:coverage ?dc_coverage_uri}\n",
    "\tOPTIONAL {?cho dc:type ?dc_type_uri }\n",
    "\n",
    "\t# Shortcut technique to avoid hopping many nodes (for the 2 subqueries below and )\n",
    "\tBIND(IRI(REPLACE(str(?cho), \"http://data.europeana.eu/proxy/europeana/\", \"http://data.europeana.eu/proxy/provider/\")) AS ?provider_proxy)\n",
    "\tBIND(IRI(REPLACE(str(?cho), \"http://data.europeana.eu/proxy/europeana/\", \"http://data.europeana.eu/aggregation/provider/\")) AS ?provider_agg)\n",
    "\tBIND(IRI(REPLACE(str(?cho), \"http://data.europeana.eu/proxy/europeana/\", \"http://data.europeana.eu/item/\")) AS ?item)\n",
    "\n",
    "\t?provider_proxy edm:type ?edm_type\n",
    "\tOPTIONAL {?provider_proxy dc:contributor ?dc_creator}\n",
    "\tOPTIONAL {?provider_proxy dc:coverage ?dc_coverage.\n",
    "\t\tBIND(REPLACE(STR(?cho), \"http://\", \"https://www.intavia.eu/location_of_production/\") as ?locationofcreation)      \n",
    "\t}\n",
    "\tOPTIONAL {?provider_proxy dc:date ?dc_date}\n",
    "\tOPTIONAL {?provider_proxy dc:title ?dc_title}\n",
    "\tOPTIONAL {?provider_agg edm:object ?edm_object}\n",
    "\n",
    "\n",
    "}\n",
    "\n",
    "\"\"\"\n",
    "\n",
    "creatorquery=\"\"\"\n",
    "PREFIX dcterms: <http://purl.org/dc/terms/>\n",
    "PREFIX dc: <http://purl.org/dc/elements/1.1/>\n",
    "PREFIX edm: <http://www.europeana.eu/schemas/edm/>\n",
    "PREFIX crm: <http://www.cidoc-crm.org/cidoc-crm/>\n",
    "PREFIX wdt: <http://www.wikidata.org/prop/direct/>\n",
    "PREFIX wd: <http://www.wikidata.org/entity/>\n",
    "PREFIX p: <http://www.wikidata.org/prop/>\n",
    "PREFIX owl: <http://www.w3.org/2002/07/owl#>\n",
    "PREFIX rdfs: <http://www.w3.org/2000/01/rdf-schema#>\n",
    "PREFIX wikibase: <http://wikiba.se/ontology#>\n",
    "PREFIX bd: <http://www.bigdata.com/rdf#>\n",
    "PREFIX idm: <https://www.intavia.org/idm/>\n",
    "PREFIX idmrole: <https://www.intavia.org/idm/role/>\n",
    "PREFIX bioc: <http://ldf.fi/schema/bioc/>\n",
    "PREFIX psv: <http://www.wikidata.org/prop/statement/value/>\n",
    "PREFIX schema: <http://schema.org/>\n",
    "PREFIX psn: <http://www.wikidata.org/prop/statement/value-normalized/>\n",
    "PREFIX wds: <http://www.wikidata.org/entity/statement/>\n",
    "PREFIX pq: <http://www.wikidata.org/prop/qualifier/>\n",
    "\n",
    "CONSTRUCT {\n",
    "\t?cho a crm:E24_Physical_Human_Made_Thing,\n",
    "\t\tidm:CHO_Proxy;\n",
    "\t\tcrm:P1_is_identified_by ?cho_1476Title;\n",
    "\t\tbioc:bearer_of ?choProductionEventRole.\n",
    "\t?cho rdfs:label ?dc_title .\n",
    "\n",
    "\t?edm_object crm:P70_documents ?cho;\n",
    "\t\ta crm:E31_Document.\n",
    "\t?cho_1476Title rdfs:label ?dc_title;\n",
    "\t\ta crm:E35_Title .\n",
    "\n",
    "\t?choProductionEventRole a bioc:Thing_Role .\n",
    "\t?choProductionEvent bioc:occured_in_the_presence_of_in_role ?choProductionEventRole ;\n",
    "\t\t a crm:E12_Production ;\n",
    "\t\t crm:P4_has_time-span ?choProductionTimespan ;\n",
    "\t\t rdfs:label ?eventLabel .\n",
    "\n",
    "\t?choProductionTimespan rdfs:label ?dc_date;\n",
    "\t\tcrm:P82a_beginning_of_the_begin ?dc_date ;\n",
    "\t\tcrm:P82b_end_of_the_end ?dc_date .\n",
    "\n",
    "\t?choProductionEvent crm:P7_took_place_at ?locationofcreation.\n",
    "\t?locationofcreation a crm:E53_Place .\n",
    "\t?choProductionEvent bioc:had_participant_in_role ?producingArtistRole .\n",
    "\t?artist bioc:bearer_of ?producingArtistRole .\n",
    "\t?producingArtistRole a idmrole:producing_artist .\n",
    "\tidmrole:producing_artist rdfs:label \"producing artist\"@en\n",
    "}\n",
    "WHERE \n",
    "{  \t\t\n",
    "\t?dc_creator_uri owl:sameAs ?artistUri .\n",
    "\t?cho dc:creator ?dc_creator_uri .\n",
    "\n",
    "\tBIND(REPLACE(STR(?cho), \"http://\", \"https://www.intavia.eu/productionthingrole/\") as ?choProductionEventRoleStr)      \n",
    "\tBIND(IRI(?choProductionEventRoleStr) as ?choProductionEventRole)\n",
    "\tBIND(REPLACE(STR(?cho), \"http://\", \"https://www.intavia.eu/production_event/\") as ?choProductionEventStr)      \n",
    "\tBIND(IRI(?choProductionEventStr) as ?choProductionEvent)\n",
    "\tBIND(IRI(REPLACE(STR(?artistUri), \"http://\", STR(idmrole:producing_artist))) as ?producingArtistRole)\n",
    "\tBIND(REPLACE(STR(?cho), \"http://\", \"https://www.intavia.org/chotitle/\") as ?cho_TitleStr)\n",
    "\tBIND(IRI(?cho_TitleStr) as ?cho_1476Title)\n",
    "\tOPTIONAL {?cho dc:coverage ?dc_coverage_uri}\n",
    "\tOPTIONAL {?cho dc:type ?dc_type_uri }\n",
    "\n",
    "\t# Shortcut technique to avoid hopping many nodes (for the 2 subqueries below and )\n",
    "\tBIND(IRI(REPLACE(str(?cho), \"http://data.europeana.eu/proxy/europeana/\", \"http://data.europeana.eu/proxy/provider/\")) AS ?provider_proxy)\n",
    "\tBIND(IRI(REPLACE(str(?cho), \"http://data.europeana.eu/proxy/europeana/\", \"http://data.europeana.eu/aggregation/provider/\")) AS ?provider_agg)\n",
    "\tBIND(IRI(REPLACE(str(?cho), \"http://data.europeana.eu/proxy/europeana/\", \"http://data.europeana.eu/item/\")) AS ?item)\n",
    "\n",
    "\t?provider_proxy edm:type ?edm_type\n",
    "\tOPTIONAL {?provider_proxy dc:creator ?dc_creator}\n",
    "\tOPTIONAL {?provider_proxy dc:coverage ?dc_coverage.\n",
    "\t\tBIND(REPLACE(STR(?cho), \"http://\", \"https://www.intavia.eu/location_of_production/\") as ?locationofcreation)      \n",
    "\t}\n",
    "\tOPTIONAL {?provider_proxy dc:date ?dc_date}\n",
    "\tOPTIONAL {?provider_proxy dc:title ?dc_title}\n",
    "\tOPTIONAL {?provider_agg edm:object ?edm_object}\n",
    "\n",
    "\n",
    "}\n",
    "\n",
    "\"\"\""
   ]
  },
  {
   "cell_type": "markdown",
   "metadata": {},
   "source": [
    "### Iterate over files in a folder"
   ]
  },
  {
   "cell_type": "code",
   "execution_count": null,
   "metadata": {},
   "outputs": [],
   "source": [
    "warnings.filterwarnings('ignore')"
   ]
  },
  {
   "cell_type": "code",
   "execution_count": null,
   "metadata": {},
   "outputs": [
    {
     "name": "stdout",
     "output_type": "stream",
     "text": [
      "10000\n",
      "0..1..2..3..4..5..6..7..8..9..10..11..12..13..14..15..16..17..18..19..20..21..22..23..24..25..26..27..28..29..30..31..32..33..34..35..36..37..38..39..40..41..42..43..44..45..46..47..48..49..50..51..52..53..54..55..56..57..58..59..60..61..62..63..64..65..66..67..68..69..70..71..72..73..74..75..76..77..78..79..80..81..82..83..84..85..86..87..88..89..90..91..92..93..94..95..96..97..98..99..100..101..102..103..104..105..106..107..108..109..110..111..112..113..114..115..116..117..118..119..120..121..122..123..124..125..126..127..128..129..130..131..132..133..134..135..136..137..138..139..140..141..142..143..144..145..146..147..148..149..150..151..152..153..154..155..156..157..158..159..160..161..162..163..164..165..166..167..168..169..170..171..172..173..174..175..176..177..178..179..180..181..182..183..184..185..186..187..188..189..190..191..192..193..194..195..196..197..198..199..200..201..202..203..204..205..206..207..208..209..210..211..212..213..214..215..216..217..218..219..220..221..222..223..224..225..226..227..228..229..230..231..232..233..234..235..236..237..238..239..240..241..242..243..244..245..246..247..248..249..250..251..252..253..254..255..256..257..258..259..260..261..262..263..264..265..266..267..268..269..270..271..272..273..274..275..276..277..278..279..280..281..282..283..284..285..286..287..288..289..290..291..292..293..294..295..296..297..298..299..300..301..302..303..304..305..306..307..308..309..310..311..312..313..314..315..316..317..318..319..320..321..322..323..324..325..326..327..328..329..330..331..332..333..334..335..336..337..338..339..340..341..342..343..344..345..346..347..348..349..350..351..352..353..354..355..356..357..358..359..360..361..362..363..364..365..366..367..368..369..370..371..372..373..374..375..376..377..378..379..380..381..382..383..384..385..386..387..388..389..390..391..392..393..394..395..396..397..398..399..400..401..402..403..404..405..406..407..408..409..410..411..412..413..414..415..416..417..418..419..420..421..422..423..424..425..426..427..428..429..430..431..432..433..434..435..436..437..438..439..440..441..442..443..444..445..446..447..448..449..450..451..452..453..454..455..456..457..458..459..460..461..462..463..464..465..466..467..468..469..470..471..472..473..474..475..476..477..478..479..480..481..482..483..484..485..486..487..488..489..490..491..492..493..494..495..496..497..498..499..500..501..502..503..504..505..506..507..508..509..510..511..512..513..514..515..516..517..518..519..520..521..522..523..524..525..526..527..528..529..530..531..532..533..534..535..536..537..538..539..540..541..542..543..544..545..546..547..548..549..550..551..552..553..554..555..556..557..558..559..560..561..562..563..564..565..566..567..568..569..570..571..572..573..574..575..576..577..578..579..580..581..582..583..584..585..586..587..588..589..590..591..592..593..594..595..596..597..598..599..600..601..602..603..604..605..606..607..608..609..610..611..612..613..614..615..616..617..618..619..620..621..622..623..624..625..626..627..628..629..630..631..632..633..634..635..636..637..638..639..640..641..642..643..644..645..646..647..648..649..650..651..652..653..654..655..656..657..658..659..660..661..662..663..664..665..666..667..668..669..670..671..672..673..674..675..676..677..678..679..680..681..682..683..684..685..686..687..688..689..690..691..692..693..694..695..696..697..698..699..700..701..702..703..704..705..706..707..708..709..710..711..712..713..714..715..716..717..718..719..720..721..722..723..724..725..726..727..728..729..730..731..732..733..734..735..736..737..738..739..740..741..742..743..744..745..746..747..748..749..750..751..752..753..754..755..756..757..758..759..760..761..762..763..764..765..766..767..768..769..770..771..772..773..774..775..776..777..778..779..780..781..782..783..784..785..786..787..788..789..790..791..792..793..794..795..796..797..798..799..800..801..802..803..804..805..806..807..808..809..810..811..812..813..814..815..816..817..818..819..820..821..822..823..824..825..826..827..828..829..830..831..832..833..834..835..836..837..838..839..840..841..842..843..844..845..846..847..848..849..850..851..852..853..854..855..856..857..858..859..860..861..862..863..864..865..866..867..868..869..870..871..872..873..874..875..876..877..878..879..880..881..882..883..884..885..886..887..888..889..890..891..892..893..894..895..896..897..898..899..900..901..902..903..904..905..906..907..908..909..910..911..912..913..914..915..916..917..918..919..920..921..922..923..924..925..926..927..928..929..930..931..932..933..934..935..936..937..938..939..940..941..942..943..944..945..946..947..948..949..950..951..952..953..954..955..956..957..958..959..960..961..962..963..964..965..966..967..968..969..970..971..972..973..974..975..976..977..978..979..980..981..982..983..984..985..986..987..988..989..990..991..992..993..994..995..996..997..998..999..1000..1001..1002..1003..1004..1005..1006..1007..1008..1009..1010..1011..1012..1013..1014..1015..1016..1017..1018..1019..1020..1021..1022..1023..1024..1025..1026..1027..1028..1029..1030..1031..1032..1033..1034..1035..1036..1037..1038..1039..1040..1041..1042..1043..1044..1045..1046..1047..1048..1049..1050..1051..1052..1053..1054..1055..1056..1057..1058..1059..1060..1061..1062..1063..1064..1065..1066..1067..1068..1069..1070..1071..1072..1073..1074..1075..1076..1077..1078..1079..1080..1081..1082..1083..1084..1085..1086..1087..1088..1089..1090..1091..1092..1093..1094..1095..1096..1097..1098..1099..1100..1101..1102..1103..1104..1105..1106..1107..1108..1109..1110..1111..1112..1113..1114..1115..1116..1117..1118..1119..1120..1121..1122..1123..1124..1125..1126..1127..1128..1129..1130..1131..1132..1133..1134..1135..1136..1137..1138..1139..1140..1141..1142..1143..1144..1145..1146..1147..1148..1149..1150..1151..1152..1153..1154..1155..1156..1157..1158..1159..1160..1161..1162..1163..1164..1165..1166..1167..1168..1169..1170..1171..1172..1173..1174..1175..1176..1177..1178..1179..1180..1181..1182..1183..1184..1185..1186..1187..1188..1189..1190..1191..1192..1193..1194..1195..1196..1197..1198..1199..1200..1201..1202..1203..1204..1205..1206..1207..1208..1209..1210..1211..1212..1213..1214..1215..1216..1217..1218..1219..1220..1221..1222..1223..1224..1225..1226..1227..1228..1229..1230..1231..1232..1233..1234..1235..1236..1237..1238..1239..1240..1241..1242..1243..1244..1245..1246..1247..1248..1249..1250..1251..1252..1253..1254..1255..1256..1257..1258..1259..1260..1261..1262..1263..1264..1265..1266.."
     ]
    },
    {
     "name": "stderr",
     "output_type": "stream",
     "text": [
      "http://iconclass.org/82A(GODFREY OF BOUILLON) does not look like a valid URI, trying to serialize this will break.\n",
      "https://www.intavia.org/idm/role/producing_artisticonclass.org/82A(GODFREY OF BOUILLON) does not look like a valid URI, trying to serialize this will break.\n"
     ]
    },
    {
     "name": "stdout",
     "output_type": "stream",
     "text": [
      "1267..1268..1269..1270..1271..1272..1273..1274..1275..1276..1277..1278..1279..1280..1281..1282..1283..1284..1285..1286..1287..1288..1289..1290..1291..1292..1293..1294..1295..1296..1297..1298..1299..1300..1301..1302..1303..1304..1305..1306..1307..1308..1309..1310..1311..1312..1313..1314..1315..1316..1317..1318..1319..1320..1321..1322..1323..1324..1325..1326..1327..1328..1329..1330..1331..1332..1333..1334..1335..1336..1337..1338..1339..1340..1341..1342..1343..1344..1345..1346..1347..1348..1349..1350..1351..1352..1353..1354..1355..1356..1357..1358..1359..1360..1361..1362..1363..1364..1365..1366..1367..1368..1369..1370..1371..1372..1373..1374..1375..1376..1377..1378..1379..1380..1381..1382..1383..1384..1385..1386..1387..1388..1389..1390..1391..1392..1393..1394..1395..1396..1397..1398..1399..1400..1401..1402..1403..1404..1405..1406..1407..1408..1409..1410..1411..1412..1413..1414..1415..1416..1417..1418..1419..1420..1421..1422..1423..1424..1425..1426..1427..1428..1429..1430..1431..1432..1433..1434..1435..1436..1437..1438..1439..1440..1441..1442..1443..1444..1445..1446..1447..1448..1449..1450..1451..1452..1453..1454..1455..1456..1457..1458..1459..1460..1461..1462..1463..1464..1465..1466..1467..1468..1469..1470..1471..1472..1473..1474..1475..1476..1477..1478..1479..1480..1481..1482..1483..1484..1485..1486..1487..1488..1489..1490..1491..1492..1493..1494..1495..1496..1497..1498..1499..1500..1501..1502..1503..1504..1505..1506..1507..1508..1509..1510..1511..1512..1513..1514..1515..1516..1517..1518..1519..1520..1521..1522..1523..1524..1525..1526..1527..1528..1529..1530..1531..1532..1533..1534..1535..1536..1537..1538..1539..1540..1541..1542..1543..1544..1545..1546..1547..1548..1549..1550..1551..1552..1553..1554..1555..1556..1557..1558..1559..1560..1561..1562..1563..1564..1565..1566..1567..1568..1569..1570..1571..1572.."
     ]
    },
    {
     "name": "stderr",
     "output_type": "stream",
     "text": [
      " http://datos.bne.es/resource/XX948112 does not look like a valid URI, trying to serialize this will break.\n",
      " http://datos.bne.es/resource/XX1689854 does not look like a valid URI, trying to serialize this will break.\n",
      " http://datos.bne.es/resource/XX874892 does not look like a valid URI, trying to serialize this will break.\n"
     ]
    },
    {
     "name": "stdout",
     "output_type": "stream",
     "text": [
      "1573..1574.."
     ]
    },
    {
     "name": "stderr",
     "output_type": "stream",
     "text": [
      " http://datos.bne.es/resource/XX948112 does not look like a valid URI, trying to serialize this will break.\n",
      " http://datos.bne.es/resource/XX1358275 does not look like a valid URI, trying to serialize this will break.\n"
     ]
    },
    {
     "name": "stdout",
     "output_type": "stream",
     "text": [
      "1575.."
     ]
    },
    {
     "name": "stderr",
     "output_type": "stream",
     "text": [
      " http://datos.bne.es/resource/XX948112 does not look like a valid URI, trying to serialize this will break.\n",
      " http://datos.bne.es/resource/XX1205053 does not look like a valid URI, trying to serialize this will break.\n"
     ]
    },
    {
     "name": "stdout",
     "output_type": "stream",
     "text": [
      "1576.."
     ]
    },
    {
     "name": "stderr",
     "output_type": "stream",
     "text": [
      " http://datos.bne.es/resource/XX948112 does not look like a valid URI, trying to serialize this will break.\n",
      " http://datos.bne.es/resource/XX1488946 does not look like a valid URI, trying to serialize this will break.\n"
     ]
    },
    {
     "name": "stdout",
     "output_type": "stream",
     "text": [
      "1577..1578.."
     ]
    },
    {
     "name": "stderr",
     "output_type": "stream",
     "text": [
      " http://datos.bne.es/resource/XX948112 does not look like a valid URI, trying to serialize this will break.\n",
      " http://datos.bne.es/resource/XX1490567 does not look like a valid URI, trying to serialize this will break.\n"
     ]
    },
    {
     "name": "stdout",
     "output_type": "stream",
     "text": [
      "1579.."
     ]
    },
    {
     "name": "stderr",
     "output_type": "stream",
     "text": [
      " http://datos.bne.es/resource/XX948112 does not look like a valid URI, trying to serialize this will break.\n",
      " http://datos.bne.es/resource/XX1490567 does not look like a valid URI, trying to serialize this will break.\n"
     ]
    },
    {
     "name": "stdout",
     "output_type": "stream",
     "text": [
      "1580.."
     ]
    },
    {
     "name": "stderr",
     "output_type": "stream",
     "text": [
      " http://datos.bne.es/resource/XX948112 does not look like a valid URI, trying to serialize this will break.\n",
      " http://datos.bne.es/resource/XX911734 does not look like a valid URI, trying to serialize this will break.\n"
     ]
    },
    {
     "name": "stdout",
     "output_type": "stream",
     "text": [
      "1581.."
     ]
    },
    {
     "name": "stderr",
     "output_type": "stream",
     "text": [
      " http://datos.bne.es/resource/XX1114235 does not look like a valid URI, trying to serialize this will break.\n",
      " http://datos.bne.es/resource/XX948112 does not look like a valid URI, trying to serialize this will break.\n",
      " http://datos.bne.es/resource/XX1146791 does not look like a valid URI, trying to serialize this will break.\n",
      " http://datos.bne.es/resource/XX1032034 does not look like a valid URI, trying to serialize this will break.\n",
      " http://datos.bne.es/resource/XX976371 does not look like a valid URI, trying to serialize this will break.\n",
      " http://datos.bne.es/resource/XX1694812 does not look like a valid URI, trying to serialize this will break.\n",
      " http://datos.bne.es/resource/XX1214642 does not look like a valid URI, trying to serialize this will break.\n",
      " http://datos.bne.es/resource/XX1444557 does not look like a valid URI, trying to serialize this will break.\n",
      " http://datos.bne.es/resource/XX912620 does not look like a valid URI, trying to serialize this will break.\n",
      " http://datos.bne.es/resource/XX944659 does not look like a valid URI, trying to serialize this will break.\n",
      " http://datos.bne.es/resource/XX1030227 does not look like a valid URI, trying to serialize this will break.\n",
      " http://datos.bne.es/resource/XX1652083 does not look like a valid URI, trying to serialize this will break.\n",
      " http://datos.bne.es/resource/XX1105662 does not look like a valid URI, trying to serialize this will break.\n",
      " http://datos.bne.es/resource/XX1151168 does not look like a valid URI, trying to serialize this will break.\n",
      " http://datos.bne.es/resource/XX908034 does not look like a valid URI, trying to serialize this will break.\n",
      " http://datos.bne.es/resource/XX887584 does not look like a valid URI, trying to serialize this will break.\n"
     ]
    },
    {
     "name": "stdout",
     "output_type": "stream",
     "text": [
      "1582.."
     ]
    },
    {
     "name": "stderr",
     "output_type": "stream",
     "text": [
      " http://datos.bne.es/resource/XX974317 does not look like a valid URI, trying to serialize this will break.\n",
      " http://datos.bne.es/resource/XX1718878 does not look like a valid URI, trying to serialize this will break.\n",
      " http://datos.bne.es/resource/XX948112 does not look like a valid URI, trying to serialize this will break.\n",
      " http://datos.bne.es/resource/XX1755137 does not look like a valid URI, trying to serialize this will break.\n",
      " http://datos.bne.es/resource/XX1030227 does not look like a valid URI, trying to serialize this will break.\n",
      " http://datos.bne.es/resource/XX1068252 does not look like a valid URI, trying to serialize this will break.\n",
      " http://datos.bne.es/resource/XX1105662 does not look like a valid URI, trying to serialize this will break.\n",
      " http://datos.bne.es/resource/XX1711371 does not look like a valid URI, trying to serialize this will break.\n",
      " http://datos.bne.es/resource/XX1030389 does not look like a valid URI, trying to serialize this will break.\n",
      " http://datos.bne.es/resource/XX1151168 does not look like a valid URI, trying to serialize this will break.\n",
      " http://datos.bne.es/resource/XX997403 does not look like a valid URI, trying to serialize this will break.\n",
      " http://datos.bne.es/resource/XX829600 does not look like a valid URI, trying to serialize this will break.\n",
      " http://datos.bne.es/resource/XX1686594 does not look like a valid URI, trying to serialize this will break.\n"
     ]
    },
    {
     "name": "stdout",
     "output_type": "stream",
     "text": [
      "1583..1584.."
     ]
    },
    {
     "name": "stderr",
     "output_type": "stream",
     "text": [
      " http://datos.bne.es/resource/XX948112 does not look like a valid URI, trying to serialize this will break.\n",
      " http://datos.bne.es/resource/XX911734 does not look like a valid URI, trying to serialize this will break.\n"
     ]
    },
    {
     "name": "stdout",
     "output_type": "stream",
     "text": [
      "1585..1586..1587..1588..1589..1590..1591..1592..1593..1594..1595..1596..1597..1598..1599..1600..1601..1602..1603..1604..1605..1606..1607..1608..1609..1610..1611..1612..1613..1614..1615..1616..1617..1618..1619..1620..1621..1622..1623..1624..1625..1626..1627..1628..1629..1630..1631..1632..1633..1634..1635..1636..1637..1638..1639..1640..1641..1642..1643..1644..1645..1646..1647..1648..1649..1650..1651..1652..1653..1654..1655..1656..1657..1658..1659..1660..1661..1662..1663..1664..1665..1666..1667..1668..1669..1670..1671..1672..1673..1674..1675..1676..1677..1678..1679..1680..1681..1682..1683..1684..1685..1686..1687..1688..1689..1690..1691..1692..1693..1694..1695..1696..1697..1698..1699..1700..1701..1702..1703..1704..1705..1706..1707..1708..1709..done in 7412.0092 seconds\n",
      "some error occurred\n",
      "20000\n",
      "0..1..2..3..4..5..6..7..8..9..10..11..12..13..14..15..16..17..18..19..20..21..22..23..24..25..26..27..28..29..30..31..32..33..34..35..36..37..38..39..40..41..42..43..44..45..46..47..48..49..50..51..52..53..54..55..56..57..58..59..60..61..62..63..64..65..66..67..68..69..70..71..72..73..74..75..76..77..78..79..80..81..82..83..84..85..86..87..88..89..90..91..92..93..94..95..96..97..98..99..100..101..102..103..104..105..106..107..108..109..110..111..112..113..114..115..116..117..118..119..120..121..122..123..124..125..126..127..128..129..130..131..132..133..134..135..136..137..138..139..140..141..142..143..144..145..146..147..148..149..150..151..152..153..154..155..156..157..158..159..160..161..162..163..164..165..166..167..168..169..170..171..172..173..174..175..176..177..178..179..180..181..182..183..184..185..186..187..188..189..190..191..192..193..194..195..196..197..198..199..200..201..202..203..204..205..206..207..208..209..210..211..212..213..214..215..216..217..218..219..220..221..222..223..224..225..226..227..228..229..230..231..232..233..234..235..236..237..238..239..240..241..242..243..244..245..246..247..248..249..250..251..252..253..254..255..256..257..258..259..260..261..262..263..264..265..266..267..268..269..270..271..272..273..274..275..276..277..278..279..280..281..282..283..284..285..286..287..288..289..290..291..292..293..294..295..296..297..298..299..300..301..302..303..304..305..306..307..308..309..310..311..312..313..314..315..316..317..318..319..320..321..322..323..324..325..326..327..328..329..330..331..332..333..334..335..336..337..338..339..340..341..342..343..344..345..346..347..348..349..350..351..352..353..354..355..356..357..358..359..360..361..362..363..364..365..366..367..368..369..370..371..372..373..374..375..376..377..378..379..380..381..382..383..384..385..386..387..388..389..390..391..392..393..394..395..396..397..398..399..400..401..402..403..404..405..406..407..408..409..410..411..412..413..414..415..416..417..418..419..420..421..422..423..424..425..426..427..428..429..430..431..432..433..434..435..436..437..438..439..440..441..442..443..444..445..446..447..448..449..450..451..452..453..454..455..456..457..458..459..460..461..462..463..464..465..466..467..468..469..470..471..472..473..474..475..476..477..478..479..480..481..482..483..484..485..486..487..488..489..490..491..492..493..494..495..496..497..498..499..500..501..502..503..504..505..506..507..508..509..510..511..512..513..514..515..516..517..518..519..520..521..522..523..524..525..526..527..528..529..530..531..532..533..534..535..536..537..538..539..540..541..542..543..544..545..546..547..548..549..550..551..552..553..554..555..556..557..558..559..560..561..562..563..564..565..566..567..568..569..570..571..572..573..574..575..576..577..578..579..580..581..582..583..584..585..586..587..588..589..590..591..592..593..594..595..596..597..598..599..600..601..602..603..604..605..606..607..608..609..610..611..612..613..614..615..616..617..618..619..620..621.."
     ]
    },
    {
     "name": "stderr",
     "output_type": "stream",
     "text": [
      " http://datos.bne.es/resource/XX1249370 does not look like a valid URI, trying to serialize this will break.\n",
      " http://datos.bne.es/resource/XX3315518 does not look like a valid URI, trying to serialize this will break.\n"
     ]
    },
    {
     "name": "stdout",
     "output_type": "stream",
     "text": [
      "622.."
     ]
    },
    {
     "name": "stderr",
     "output_type": "stream",
     "text": [
      " http://datos.bne.es/resource/XX1729570 does not look like a valid URI, trying to serialize this will break.\n",
      " http://datos.bne.es/resource/XX995758 does not look like a valid URI, trying to serialize this will break.\n"
     ]
    },
    {
     "name": "stdout",
     "output_type": "stream",
     "text": [
      "623..624..625..626..627..628..629..630..631..632..633..634..635..636..637..638..639..640..641..642..643..644..645..646..647..648..649..650..651..652..653..654..655..656..657..658..659..660..661..662..663..664..665..666..667..668..669..670..671..672..673..674..675..676..677..678..679..680..681..682..683..684..685..686..687..688..689..690..691..692..693..694..695..696..697..698..699..700..701..702..703..704..705..706..707..708..709..710..711..712..713..714..715..716..717..718..719..720..721..722..723..724..725..726..727..728..729..730..731..732..733..734..735..736..737..738..739..740..741..742..743..744..745..746..747..748..749..750..751..752..753..754..755..756..757..758..759..760..761..762..763..764..765..766..767..768..769..770..771..772..773..774..775..776..777..778..779..780..781..782..783..784..785..786..787..788..789..790..791..792..793..794..795..796..797..798..799..800..801..802..803..804..805..806..807..808..809..810..811..812..813..814..815..816..817..818..819..820..821..822..823..824..825..826..827..828..829..830..831..832..833..834..835..836..837..838..839..840..841..842..843..844..845..846..847..848..849..850..851..852..853..854..855..856..857..858..859..860..861..862..863..864..865..866..867..868..869..870..871..872..873..874..875..876..877..878..879..880..881..882..883..884..885..886..887..888..889..890..891..892..893..894..895..896..897..898..899..900..901..902..903..904..905..906..907..908..909..910..911..912..913..914..915..916..917..918..919..920..921..922..923..924..925..926..927..928..929..930..931..done in 2672.2355 seconds\n",
      "30000\n",
      "0..1..2..3..4..5..6..7..8..9..10..11..12..13..14..15..16..17..18..19..20..21..22..23..24..25..26..27..28..29..30..31..32..33..34..35..36..37..38..39..40..41..42..43..44..45..46..47..48..49..50..51..52..53..54..55..56..57..58..59..60..61..62..63..64..65..66..67..68..69..70..71..72..73..74..75..76..77..78..79..80..81..82..83..84..85..86..87..88..89..90..91..92..93..94..95..96..97..98..99..100..101..102..103..104..105..106..107..done in 279.2482 seconds\n",
      "40000\n",
      "0..1..2..3..4..5..6..7..8..9..10..11..12..13..14..15..16..17..18..19..20..21..22..23..24..25..26..27..28..29..30..31..32..33..34.."
     ]
    },
    {
     "name": "stderr",
     "output_type": "stream",
     "text": [
      "http://www.museen-nord.de/Objekt/DE-MUS-076017/lido/1951-SHKV 92 does not look like a valid URI, trying to serialize this will break.\n",
      "http://data.europeana.eu/itemhttp://www.museen-nord.de/Objekt/DE-MUS-076017/lido/1951-SHKV 92 does not look like a valid URI, trying to serialize this will break.\n",
      "http://www.museen-nord.de/Objekt/DE-MUS-076017/lido/1951-SHKV 92 does not look like a valid URI, trying to serialize this will break.\n"
     ]
    },
    {
     "name": "stdout",
     "output_type": "stream",
     "text": [
      "35..36..37..38..39..40..41..42..43..44..45..46..47..48..49..50..51..52..53..54..55..56..57..58..59..60..61..62..63..64..65..66..67..68..69..70..71..72..73..74..75..76..77..78..79..80..81..82..83..84..85..86..87..88..89..90..91..92..93..94..95..96..97..98..99..100..101..102..103..104..105..106..107..108..109..110..111..112..113..114..115..116..117..118..119..120..121..122..123..124..125..126..127..128..129..130..131..132..133..134..135..136..137..138..139..140..141..142..143..144..145..146..147..148..149..150..151..152..153..154..155..156..157..158..159..160..161..162..163..164..165..166..167..168..169..170..171..172..173..174..175..176..177..178..179..180..181..182..183..184..185..186..187..188..189..190..191..192..193..194..195..196..197..198..199..200..201..202..203..204..205..206..207..208..209..210..211..212..213..214..215..216..217..218..219..220..221..222..223..224..225..226..227..228..229..230..231..232..233..234..235..236..237..238..239..240..241..242..243..244..245..246..247..248..249..250..251..252..253..254..255..256..257..258..259..260..261..262..263..264..265..266..267..268..269..270..271..272..273..274..275..276..277..278..279..280..281..282..283..284..285..286..287..288..289..290..291..292..293..294..295..296..297..298..299..300..301..302..303..304..305..306..307..308..309..310..311..312..313..314..315..316..317..318..319..320..321..322..323..324..325..326..327..328..329..330..331..332..333..334..335..336..337..338..339..340..341..342..343..344..345..346..347..348..349..350..351..352..353..354..355..356..357..358..359..360..361..362..363..364..365..366..367..368..369..370..371..372..373..374..375..376..377..378..379..380..381..382..383..384..385..386..387..388..389..390..391..392..393..394..395..396..397..398..399..400..401..402..403..404..405..406..407..408..409..410..411..412..413..414..415..416..417..418..419..420..421..422..423..424..425..426..427..428..429..430..431..432..433..434..435..436..437..438..439..440..441..442..443..444..445..446..447..448..449..450..451..452..453..454..455..456..457..458..459..460..461..462..463..464..465..466..467..468..469..470..471..472..473..474..475..476..477..478..479..480..481..482..483..484..485..486..487..488..489..490..491..492..493..494..495..496..497..498..499..500..501..502..503..504..505..506..507..508..509..510..511..512..513..514..515..516..517..518..519..520..521..522..523..524..525..526..527..528..529..530..531..532..533..534..535..536..537..538..539..540..541..542..543..544..545..546..547..548..549..550..551..552..553..554..555..556..557..558..559..560..561..562..563..564..565..566..567..568..569..570..571..572..573..574..575..576..577..578..579..580..581..582..583..584..585..586..587..588..589..590..591..592..593..594..595..596..597..598..599..600..601..602..603..604..605..606..607..608..609..610..611..612..613..614..615..616..617..618..619..620..621..622..623..624..625..626..627..628..629..630..631..632..633..634..635..636..637..638..639..640..641..642..643..644..645..646..647..648..649..650..651..652..653..654..655..656..657..658..659..660..661..662..663..664..665..666..667..668..669..670..671..672..673..674..675..676..677..678..679..680..681..682..683..684..685..686..687..688..689..690..691..692..693..694..695..696..697..698..699..700..701..702..703..704..705..706..707..708..709..710..711..712..713..714..715..716..717..718..719..720..721..722..723..724..725..726..727..728..729..730..731..732..733..734..735..736..737..738..739..740..741..742..743..744..745..746..747..748..749..750..751..752..753..754..755..756..757..758..759..760..761..762..763..764..765..766..767..768..769..770..771..772..773..774..775..776..777..778..779..780..781..782..783..784..785..786..787..788..789..790..791..792..793..794..795..796..797..798..799..800..801..802..803..804..805..806..807..808..809..810..811..812..813..814..815..816..817..818..819..820..821..822..823..824..825..826..827..828..829..830..831..832..833..834..835..836..837..838..839..840..841..842..843..844..845..846..847..848..849..850..851..852..853..854..855..856..857..858..859..860..861..862..863..864..865..866..867..868..869..870..871..872..873..874..875..876..877..878..879..880..881..882..883..884..885..886..887..888..889..890..891..892..893..894..895..896..897..898..899..900..901..902..903..904..905..906..907..908..909..910..911..912..913..914..915..916..917..918..919..920..921..922..923..924..925..926..927..928..929..930..931..932..933..934..935..936..937..938..939..940..941..942..943..944..945..946..947..948..949..950..951..952..953..954..955..956..957..958..959..960..961..962..963..964..965..966..967..968..969..970..971..972..973..974..975..976..977..978..979..980..981..982..983..984..985..986..987..988..989..990..991..992..993..994..995..996..997..998..999..1000..1001..1002..1003..1004..1005..1006..1007..1008..1009..1010..1011..1012..1013..1014..1015..1016..1017..1018..1019..1020..1021..1022..1023..1024..1025..1026..1027..1028..1029..1030..1031..1032..1033..1034..1035..1036..1037..1038..1039..1040..1041..1042..1043..1044..1045..1046..1047..1048..1049..1050..1051..1052..1053..1054..1055..1056..1057..1058..1059..1060..1061..1062..1063..1064..1065..1066..1067..1068..1069..1070..1071..1072..1073..1074..1075..1076..1077..1078..1079..1080..1081..1082..1083..1084..1085..1086..1087..1088..1089..1090..1091..1092..1093..1094..1095..1096..1097..1098..1099..1100..1101..1102..1103..1104..1105..1106..1107..1108..1109..1110..1111..1112..1113..1114..1115..1116..1117..1118..1119..1120..1121..1122..1123..1124..1125..1126..1127..1128..1129..1130..1131..1132..1133..1134..1135..1136..1137..1138..1139..1140..1141..1142..1143..1144..1145..1146..1147..1148..1149..1150..1151..1152..1153..1154..1155..1156..1157..1158..1159..1160..1161..1162..1163..1164..1165..1166..1167..1168..1169..1170..1171..1172..1173..1174..1175..1176..1177..1178..1179..1180..1181..1182..1183..1184..1185..1186..1187..1188..1189..1190..1191..1192..1193..1194..1195..1196..1197..1198..1199..1200..1201..1202..1203..1204..1205..1206..1207..1208..1209..1210..1211..1212..1213..1214..1215..1216..1217..1218..1219..1220..1221..1222..1223..1224..1225..1226..1227..1228..1229..1230..1231..1232..1233..1234..1235..1236..1237..1238..1239..1240..1241..1242..1243..1244..1245..1246..1247..1248..1249..1250..1251..1252..1253..1254..1255..1256..1257..1258..1259..1260..1261..1262..1263..1264..1265..1266..1267..1268..1269..1270..1271..1272..1273..1274..1275..1276..1277..1278..1279..1280..1281..1282..1283..1284..1285..1286..1287..1288..1289..1290..1291..1292..1293..1294..1295..1296..1297..1298..1299..1300..1301..1302..1303..1304..1305..1306..1307..1308.."
     ]
    },
    {
     "name": "stderr",
     "output_type": "stream",
     "text": [
      " http://datos.bne.es/resource/XX1077364 does not look like a valid URI, trying to serialize this will break.\n",
      " http://datos.bne.es/resource/XX4949209 does not look like a valid URI, trying to serialize this will break.\n",
      " http://datos.bne.es/resource/XX1807341 does not look like a valid URI, trying to serialize this will break.\n",
      " http://datos.bne.es/resource/XX4949195 does not look like a valid URI, trying to serialize this will break.\n",
      " http://datos.bne.es/resource/XX986784 does not look like a valid URI, trying to serialize this will break.\n",
      " http://datos.bne.es/resource/XX1595664 does not look like a valid URI, trying to serialize this will break.\n"
     ]
    },
    {
     "name": "stdout",
     "output_type": "stream",
     "text": [
      "1309..1310.."
     ]
    },
    {
     "name": "stderr",
     "output_type": "stream",
     "text": [
      " http://datos.bne.es/resource/XX1104174 does not look like a valid URI, trying to serialize this will break.\n",
      " http://datos.bne.es/resource/XX992838 does not look like a valid URI, trying to serialize this will break.\n"
     ]
    },
    {
     "name": "stdout",
     "output_type": "stream",
     "text": [
      "1311.."
     ]
    },
    {
     "name": "stderr",
     "output_type": "stream",
     "text": [
      " http://datos.bne.es/resource/XX1104174 does not look like a valid URI, trying to serialize this will break.\n",
      " http://datos.bne.es/resource/XX992838 does not look like a valid URI, trying to serialize this will break.\n",
      " http://datos.bne.es/resource/XX1629642 does not look like a valid URI, trying to serialize this will break.\n",
      " http://datos.bne.es/resource/XX1629575 does not look like a valid URI, trying to serialize this will break.\n"
     ]
    },
    {
     "name": "stdout",
     "output_type": "stream",
     "text": [
      "1312.."
     ]
    },
    {
     "name": "stderr",
     "output_type": "stream",
     "text": [
      " http://datos.bne.es/resource/XX1104174 does not look like a valid URI, trying to serialize this will break.\n",
      " http://datos.bne.es/resource/XX1425988 does not look like a valid URI, trying to serialize this will break.\n",
      " http://datos.bne.es/resource/XX826607 does not look like a valid URI, trying to serialize this will break.\n"
     ]
    },
    {
     "name": "stdout",
     "output_type": "stream",
     "text": [
      "1313.."
     ]
    },
    {
     "name": "stderr",
     "output_type": "stream",
     "text": [
      " http://datos.bne.es/resource/XX1077364 does not look like a valid URI, trying to serialize this will break.\n",
      " http://datos.bne.es/resource/XX957915 does not look like a valid URI, trying to serialize this will break.\n",
      " http://datos.bne.es/resource/XX1476560 does not look like a valid URI, trying to serialize this will break.\n",
      " http://datos.bne.es/resource/XX870858 does not look like a valid URI, trying to serialize this will break.\n",
      " http://datos.bne.es/resource/XX1077264 does not look like a valid URI, trying to serialize this will break.\n",
      " http://datos.bne.es/resource/XX1307334 does not look like a valid URI, trying to serialize this will break.\n"
     ]
    },
    {
     "name": "stdout",
     "output_type": "stream",
     "text": [
      "1314.."
     ]
    },
    {
     "name": "stderr",
     "output_type": "stream",
     "text": [
      " http://datos.bne.es/resource/XX859263 does not look like a valid URI, trying to serialize this will break.\n",
      " http://datos.bne.es/resource/XX1367622 does not look like a valid URI, trying to serialize this will break.\n"
     ]
    },
    {
     "name": "stdout",
     "output_type": "stream",
     "text": [
      "1315..1316..1317..1318..1319..1320..1321..1322..1323..1324..1325..1326..1327..1328..1329..1330..1331..1332..1333..1334..1335..1336..1337..1338..1339..1340..1341..1342..1343..1344..1345..1346..1347..1348..1349..1350..1351..1352..1353..1354..1355..1356..1357..1358..1359..1360..1361..1362..1363..done in 3834.9508 seconds\n",
      "50000\n",
      "0..1..2..3..4..5..6..7..8..9..10..11..12..13..14..15..16..17..18..19..20..21..22..23..24..25..26..27..28..29..30..31..32..33..34..35..36..37..38..39..40..41..42..43..44..45..46..47..48..49..50..51..52..53..54..55..56..57..58..59..60..61..62..63..64..65..66..67..68..69..70..71..72..73..74..75..76..77..78..79..80..81..82..83..84..85..86..87..88..89..90..91..92..93..94..95..96..97..98..99..100..101..102..103..104..105..106..107..108..109..110..111..112..113..114..115..116..117..118..119..120..121..122..123..124..125..126..127..128..129..130..131..132..133..134..135..136..137..138..139..140..141..142..143..144..145..146..147..148..149..150..151..152..153..154..155..156..157..158..159..160..161..162..163..164..165..166..167..168..169..170..171..172..173..174..175..176..177..178..179..180..181..182..183..184..185..186..187..188..189..190..191..192..193..194..195..196..197..198..199..200..201..202..203..204..205..206..207..208..209..210..211..212..213..214..215..216..217..218..219..220..221..222..223..224..225..226..227..228..229..230..231..232..233..234..235..236..237..238..239..240..241..242..243..244..245..246..247..248..249..250..251..252..253..254..255..256..257..258..259..260..261..262..263..264..265..266..267..268..269..270..271..272..273..274..275..276..277..278..279..280..281..282..283..284..285..286..287..288..289..290..291..292..293..294..295..296..297..298..299..300..301..302..303..304..305..306..307..308..309..310..311..312..313..314..315..316..317..318..319..320..321..322..323..324..325..326..327..328..329..330..331..332..333..334..335..336..337..338..339..340..341..342..343..344..345..346..347..348..349..350..351..352..353..354..355..356..357..358..359..360..361..362..363..364..365..366..367..368..369..370..371..372..373..374..375..376..377..378..379..380..381..382..383..384..385..386..387..388..389..390..391..392..393..394..395..396..397..398..399..400..401..402..403..404..405..406..407..408..409..410..411..412..413..414..415..416..417..418..419..420..421..422..423..424..425..426..427..428..429..430..431..432..433..434..435..436..437..438..439..440..441..442..443..444..445..446..447..448..449..450..451..452..453..454..455..456..457..458..459..460..461..462..463..464..465..466..467..468..469..470..471..472..473..474..475..476..477..478..479..480..481..482..483..484..485..486..487..488..489..490..491..492..493..494..495..496..497..498..499..500..501..502..503..504..505..506..507..508..509..510..511..512..513..514..515..516..517..518..519..520..521..522..523..524..525..526..527..528..529..530..531..532..533..534..535..536..537..538..539..540..541..542..543..544..545..546..547..548..549..550..551..552..553..554..555..556..557..558..559..560..561..562..563..564..565..566..567..568..569..570..571..572..573..574..575..576..577..578..579..580..581..582..583..584..585..586..587..588..589..590..591..592..593..594..595..596..597..598..599..600..601..602..603..604..605..606..607..608..609..610..611..612..613..614.."
     ]
    },
    {
     "name": "stderr",
     "output_type": "stream",
     "text": [
      " http://datos.bne.es/resource/XX1933670 does not look like a valid URI, trying to serialize this will break.\n",
      " http://datos.bne.es/resource/XX1486593 does not look like a valid URI, trying to serialize this will break.\n",
      " http://datos.bne.es/resource/XX843538 does not look like a valid URI, trying to serialize this will break.\n",
      " http://datos.bne.es/resource/XX1204378 does not look like a valid URI, trying to serialize this will break.\n",
      " http://datos.bne.es/resource/XX2901779 does not look like a valid URI, trying to serialize this will break.\n"
     ]
    },
    {
     "name": "stdout",
     "output_type": "stream",
     "text": [
      "615.."
     ]
    },
    {
     "name": "stderr",
     "output_type": "stream",
     "text": [
      " http://datos.bne.es/resource/XX1521375 does not look like a valid URI, trying to serialize this will break.\n",
      " http://datos.bne.es/resource/XX1076823 does not look like a valid URI, trying to serialize this will break.\n",
      " http://datos.bne.es/resource/XX1517303 does not look like a valid URI, trying to serialize this will break.\n",
      " http://datos.bne.es/resource/XX1295030 does not look like a valid URI, trying to serialize this will break.\n",
      " http://datos.bne.es/resource/XX1151631 does not look like a valid URI, trying to serialize this will break.\n",
      " http://datos.bne.es/resource/XX1517351 does not look like a valid URI, trying to serialize this will break.\n",
      " http://datos.bne.es/resource/XX1225886 does not look like a valid URI, trying to serialize this will break.\n",
      " http://datos.bne.es/resource/XX1225885 does not look like a valid URI, trying to serialize this will break.\n"
     ]
    },
    {
     "name": "stdout",
     "output_type": "stream",
     "text": [
      "616..617..618..619..620..621..622..623..624..625..626..627..628..629..630..631..632..633..634..635..636..637..638..639..640..641..642..643..644..645..646..647..648..649..650..651..652..653..654..655..656..657..658..659..660..661..662..663..664..665..666..667..668..669..670..671..672..673..674..675..676..677..678..679..680..681..682..683..684..685..686..687..688..689..690..691..692..693..694..695..696..697..698..699..700..701..702..703..704..705..706..707..708..709..710..711..712..713..714..715..716..717..718..719..720..721..722..723..724..725..726..727..728..729..730..731..732..733..734..735..736..737..738..739..740..741..742..743..744..745..746..747..748..749..750..751..752..753..754..755..756..757..758..759..760..761..762..763..764..765..766..767..768..769..770..771..772..773..done in 2177.9720 seconds\n",
      "60000\n",
      "0..1..2..3..4..5..6..7..8..9..10..11..12..13..14..15..16..17..18..19..20..21..22..23..24..25..26..27..28..29..30..31..32..33..34..35..36..37..38..39..40..41..42..43..44..45..46..47..48..49..50..51..52..53..54..55..56..57..58..59..60..61..62..63..64..65..66..67..68..69..70..71..72..73..74..75..76..77..78..79..80..81..82..83..84..85..86..87..88..89..90..91..92..93..94..95..96..97..98..99..100..101..102..103..104..105..106..107..108..109..110..111..112..113..114..115..116..117..118..119..120..121..122..123..124..125..126..127..128..129..130..131..132..133..134..135..136..137..138..139..140..141..142..143..144..145..146..147..148..149..150..151..152..153..154..155..156..157..158..159..160..161..162..163..164..165..166..167..168..169..170..171..172..173..174..175..176..177..178..179..180..181..182..183..184..185..186..187..188..189..190..191..192..193..194..195..196..197..198..199..200..201..202..203..204..205..206..207..208..209..210..211..212..213..214..215..216..217..218..219..220..221..222..223..224..225..226..227..228..229..230..231..232..233..234..235..236..237..238..239..240..241..242..243..244..245..246..247..248..249..250..251..252..253..254..255..256..257..258..259..260..261..262..263..264..265..266..267..268..269..270..271..272..273..274..275..276..277..278..279..280..281..282..283..284..285..286..287..288..289..290..291..292..293..294..295..296..297..298..299..300..301..302..303..304..305..306..307..308..309..310..311..312..313..314..315..316..317..318..319..320..321..322..323..324..325..326..327..328..329..330..331..332..333..334..335..336..337..338..339..340..341..342..343..344..345..346..347..348..349..350..351..352..353..354..355..356..357..358..359..360..361..362..363..364..365..366..367..368..369..370..371..372..373..374..375..376..377..378..379..380..381..382..383..384..385..386..387..388..389..390..391..392..393..394..395..396..397..398..399..400..401..402..403..404..405..406..407..408..409..410..411..412..413..414..415..416..417..418..419..420..421..422..423..424..425..426..427..428..429..430..431..432..433..434..435..436..437..438..439..440..441..442..443..444..445..446..447..448..449..450..451..452..453..454..455..456..457..458..459..460..461..462..463..464..465..466..467..468..469..470..471..472..473..474..475..476..477..478..479..480..481..482..483..484..485..486..487..488..489..490..491..492..493..494..495..496..497..498..499..500..501..502..503..504..505..506..507..508..509..510..511..512..513..514..515..516..517..518..519..520..521..522..523..524..525..526..527..528..529..530..531..532..533..534..535..536..537..538..539..540..541..542..543..544..545..546..547..548..549..550..551..552..553..554..555..556..557..558..559..560..561..562..563..564..565..566..567..568..569..570..571..572..573..574..575..576..577..578..579..580..581..582..583..584..585..586..587..588..589..590..591..592..593..594..595..596..597..598..599..600..601..602..603..604..605..606..607..608..609..610..611..612..613..614..615..616..617..618..619..620..621..622..623..624..625..626..627..628..629..630..631..632..633..634..635..636..637..638..639..640..641..642..643..644..645..646..647..648..649..650..651..652..653..654..655..656..657..658..659..660..661..662..663..664..665..666..667..668..669..670..671..672..673..674..675..676..677..678..679..680..681..682..683..684..685..686..687..688..689..690..691..692..693..694..695..696..697..698..699..700..701..702..703..704..705..706..707..708..709..710..711..712..713..714..715..716..717..718..719..720..721..722..723..724..725..726..727..728..729..730..731..732..733..734..735..736..737..738..739..740..741..742..743..744..745..746..747..748..749..750..751..752..753..754..755..756..757..758..759..760..761..762..763..764..765..766..767..768..769..770..771..772..773..774..775..776..777..778..779..780..781..782..783..784..785..786..787..788..789..790..791..792..793..794..795..796..797..798..799..800..801..802..803..804..805..806..807..808..809..810..811..812..813..814..815..816..817..818..819..820..821..822..823..824..825..826..827..828..829..830..831..832..833..834..835..836..837..838..839..840..841..842..843..844..845..846..847..848..849..850..851..852..853..854..855..856..857..858..859..860..861..862..863..864..865..866..867..868..869..870..871..872..873..874..875..876..877..878..879..880..881..882..883..884..885..886..887..888..889..890..891..892..893..894..895..896..897..898..899..900..901..902..903..904..905..906..907..908..909..910..911..912..913..914..915..916..917..918..919..920..921..922..923..924..925..926..927..928..929..930..931..932..933..934..935..936..937..938..939..940..941..942..943..944..945..946..947..948..949..950..951..952..953..954..955..956..957..958..959..960..961..962..963..964..965..966..967..968..969..970..971..972..973..974..975..976..977..978..979..980..981..982..983..984..985..986..987..988..989..990..991..992..993..994..995..996..997..998..999..1000..1001..1002..1003..1004..1005..1006..1007..1008..1009..1010..1011..1012..1013..1014..1015..1016..1017..1018..1019..1020..1021..1022..1023..1024..1025..1026..1027..1028..1029..1030..1031..1032..1033..1034..1035..1036..1037..1038..1039..1040..1041..1042..1043..1044..1045..1046..1047..1048..1049..1050..1051..1052..1053..1054..1055..1056..1057..1058..1059..1060..1061..1062..1063..1064..1065..1066..1067..1068..1069..1070..1071..1072..1073..1074..1075..1076..1077..1078..1079..1080..1081..1082..1083..1084..1085..1086..1087..1088..1089..1090..1091..1092..1093..1094..1095..1096..1097..1098..1099..1100..1101..1102..1103..1104..1105..1106..1107..1108..1109..1110..1111..1112..1113..1114..1115..1116..1117..1118..1119..1120..1121..1122..1123..1124..1125..1126..1127..1128..1129..1130..1131..1132..1133..1134..1135..1136..1137..1138..1139..1140..1141..1142..1143..1144..1145..1146..1147..1148..1149..1150..1151..1152..1153..1154..1155..1156..1157..1158..1159..1160..1161..1162..1163..1164..1165..1166..1167..1168..1169..1170..1171..1172..1173..1174..1175..1176..1177..1178..1179..1180..1181..1182..1183..1184..1185..1186..1187..1188..1189..1190..1191..1192..1193..1194..1195..1196..1197..1198..1199..1200..1201..1202..1203..1204..1205..1206..1207..1208..1209..1210..1211..1212..1213..1214..1215..1216..1217..1218..1219..1220..1221..1222..1223..1224..1225..1226..1227..1228..1229..1230..1231..1232..1233..1234..1235..1236..1237..1238..1239..1240..1241..1242..1243..1244..1245..1246..1247..1248..1249..1250..1251..1252..1253..1254..1255..1256..1257..1258..1259..1260..1261..1262..1263..1264..1265..1266..1267..1268..1269..1270..1271..1272..1273..1274..1275..1276..1277..1278..1279..1280..1281..1282..1283..1284..1285..1286..1287..1288..1289..1290..1291..1292..1293..1294..1295..1296..1297..1298..1299..1300..1301..1302..1303..1304..1305..1306..1307..1308..1309..1310..1311..1312..1313..1314..1315..1316..1317..1318..1319..1320..1321..1322..1323..1324..1325..1326..1327..1328..1329..1330..1331..1332..1333..1334..1335..1336..1337..1338..1339..1340..1341.."
     ]
    }
   ],
   "source": [
    "\n",
    "# Load InTaVia data which contains persons with Wikidata URI\n",
    "i_file = 'InTaVia_all_persons_with_WikidataURI_query_results.ttl'\n",
    "#name of the folder + filename\n",
    "dirstr = 'C:/Users/vbr240/git/InTaVia2/InTaVia_EuropeanaCHO_files/test/Contributor/OnlyInTaVia_at_nl_fi_si_URI_list_df_WikidataContributor_' \n",
    "#starting folder number\n",
    "nr = 10000\n",
    "#last file nr\n",
    "maxnr = 270000\n",
    "\n",
    "while nr < maxnr:\n",
    "    print(str(nr))\n",
    "    # Load Europeana data from a specific folder\n",
    "    dir_path = dirstr+str(nr)+'.csv/'\n",
    "    arr = os.listdir(dir_path)\n",
    "    outputfile = 'result_contributor_'+str(nr)+'.ttl'\n",
    "    format = 'ttl'\n",
    "    g2 = Graph()\n",
    "\n",
    "    i = 0\n",
    "    query_content = contributorquery\n",
    "\n",
    "    tic = time.perf_counter()\n",
    "\n",
    "    for onefile in arr:\n",
    "        # some arbitrary stop condition\n",
    "        if i<99999999:\n",
    "            g = Graph()\n",
    "            g.parse(i_file) # load wikidata\n",
    "            #print(onefile)\n",
    "            with open(dir_path+onefile, 'r', encoding=\"utf8\") as file:\n",
    "                stringdata = file.read().replace('^^<http://www.w3.org/2001/XMLSchema#hexBinary>', '')\n",
    "            g.parse(data=stringdata)\n",
    "            result = g.query(query_content)\n",
    "            g2+=result\n",
    "            print(str(i)+'..', end='')\n",
    "            i+=1\n",
    "\n",
    "    toc = time.perf_counter()\n",
    "    print(f\"done in {toc - tic:0.4f} seconds\")\n",
    "\n",
    "          #  g.parse(dir_path+onefile, format=\"ttl\")\n",
    "\n",
    "    try:\n",
    "        g2.serialize(destination=outputfile)\n",
    "    except:\n",
    "        print('some error occurred')\n",
    "    nr += 10000\n"
   ]
  },
  {
   "cell_type": "code",
   "execution_count": null,
   "metadata": {},
   "outputs": [],
   "source": []
  }
 ],
 "metadata": {
  "kernelspec": {
   "display_name": "Python 3",
   "language": "python",
   "name": "python3"
  },
  "language_info": {
   "codemirror_mode": {
    "name": "ipython",
    "version": 3
   },
   "file_extension": ".py",
   "mimetype": "text/x-python",
   "name": "python",
   "nbconvert_exporter": "python",
   "pygments_lexer": "ipython3",
   "version": "3.7.6"
  },
  "vscode": {
   "interpreter": {
    "hash": "056af9df3335714b92606d06f1f2fa8228684766ba1a5b77570ea43fb51e6c01"
   }
  }
 },
 "nbformat": 4,
 "nbformat_minor": 2
}
